{
  "cells": [
    {
      "cell_type": "code",
      "execution_count": 9,
      "metadata": {
        "id": "Z88B2Izhz4oc"
      },
      "outputs": [],
      "source": [
        "### Carregar as Libraries\n",
        "import numpy as np\n",
        "import pandas as pd\n",
        "\n",
        "### Importing Dataset\n",
        "dataset = pd.read_csv('CNN_features_extracted_MAX.csv',encoding='utf-8')\n",
        "\n",
        "# Obtendo os nomes das colunas Numéricas\n",
        "tipos_numericos = ['int32', 'int64', 'float16', 'float32', 'float64']\n",
        "cols_num = dataset.select_dtypes(include=tipos_numericos)\n",
        "\n",
        "## Selecionando os atributos numéricos\n",
        "colunas_numericas = list(cols_num.columns)\n",
        "\n",
        "## Pegar a classe\n",
        "coluna_classe = dataset['classe']\n",
        "\n",
        "## Separando os atributos da classe\n",
        "X = dataset[colunas_numericas] # Features\n",
        "y = dataset.classe             # Target variable (classe)"
      ]
    },
    {
      "cell_type": "code",
      "execution_count": 10,
      "metadata": {
        "colab": {
          "base_uri": "https://localhost:8080/"
        },
        "id": "XPfpr-0b0Eb6",
        "outputId": "cc76f26c-900e-4c81-8125-477d5d1f7a9f"
      },
      "outputs": [
        {
          "name": "stdout",
          "output_type": "stream",
          "text": [
            "Accuracy: 0.528 (0.035)\n",
            "\n"
          ]
        },
        {
          "data": {
            "text/plain": [
              "array([[ 34, 366],\n",
              "       [ 12, 388]], dtype=int64)"
            ]
          },
          "execution_count": 10,
          "metadata": {},
          "output_type": "execute_result"
        }
      ],
      "source": [
        "## Carregando o algoritmo / método / técnica Naive Bayes\n",
        "from sklearn.naive_bayes import GaussianNB\n",
        "from sklearn.model_selection import KFold\n",
        "from sklearn.model_selection import cross_val_score\n",
        "from sklearn.model_selection import cross_val_predict\n",
        "from sklearn.metrics import confusion_matrix\n",
        "\n",
        "# 10-fold CV\n",
        "kf = KFold(n_splits=10, random_state=1, shuffle=True)\n",
        "\n",
        "# Create a Gaussian Classifier object\n",
        "gnb = GaussianNB(priors=None, var_smoothing=1e-9)\n",
        "\n",
        "# Model Accuracy\n",
        "scores = cross_val_score(gnb, X, y, scoring='accuracy', cv=kf)\n",
        "print('Accuracy: %.3f (%.3f)' % (scores.mean(), scores.std()))\n",
        "print()\n",
        "\n",
        "# Matriz de confusão p/ k fold\n",
        "y_pred = cross_val_predict(gnb, X, y, cv=kf)\n",
        "confusion_matrix(y, y_pred)"
      ]
    }
  ],
  "metadata": {
    "colab": {
      "provenance": []
    },
    "kernelspec": {
      "display_name": "Python 3",
      "name": "python3"
    },
    "language_info": {
      "codemirror_mode": {
        "name": "ipython",
        "version": 3
      },
      "file_extension": ".py",
      "mimetype": "text/x-python",
      "name": "python",
      "nbconvert_exporter": "python",
      "pygments_lexer": "ipython3",
      "version": "3.10.6"
    }
  },
  "nbformat": 4,
  "nbformat_minor": 0
}
