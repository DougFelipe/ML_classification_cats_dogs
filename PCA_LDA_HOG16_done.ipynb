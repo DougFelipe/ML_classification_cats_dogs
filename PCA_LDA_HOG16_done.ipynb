{
  "cells": [
    {
      "cell_type": "code",
      "execution_count": 1,
      "metadata": {
        "colab": {
          "base_uri": "https://localhost:8080/"
        },
        "id": "lMhQb6jzOl4J",
        "outputId": "a669eef2-a776-4f77-fd77-481022ab1f99"
      },
      "outputs": [
        {
          "name": "stdout",
          "output_type": "stream",
          "text": [
            "<class 'pandas.core.frame.DataFrame'>\n",
            "RangeIndex: 800 entries, 0 to 799\n",
            "Columns: 1765 entries, classe to hog_feature_1764\n",
            "dtypes: float64(1764), object(1)\n",
            "memory usage: 10.8+ MB\n"
          ]
        }
      ],
      "source": [
        "### Carregar as Libraries\n",
        "import numpy as np\n",
        "import pandas as pd\n",
        "\n",
        "### Importing Dataset\n",
        "dataset = pd.read_csv('HOG_Transform_16.csv',encoding='utf-8')\n",
        "\n",
        "### Mostrando as colunas do dataset\n",
        "dataset.info()"
      ]
    },
    {
      "cell_type": "code",
      "execution_count": 2,
      "metadata": {
        "colab": {
          "base_uri": "https://localhost:8080/"
        },
        "id": "SO6EqUcVPGXs",
        "outputId": "165dad41-6a7a-4efe-b5bf-6b477fa93589"
      },
      "outputs": [
        {
          "name": "stdout",
          "output_type": "stream",
          "text": [
            "['hog_feature_1', 'hog_feature_2', 'hog_feature_3', 'hog_feature_4', 'hog_feature_5', 'hog_feature_6', 'hog_feature_7', 'hog_feature_8', 'hog_feature_9', 'hog_feature_10', 'hog_feature_11', 'hog_feature_12', 'hog_feature_13', 'hog_feature_14', 'hog_feature_15', 'hog_feature_16', 'hog_feature_17', 'hog_feature_18', 'hog_feature_19', 'hog_feature_20', 'hog_feature_21', 'hog_feature_22', 'hog_feature_23', 'hog_feature_24', 'hog_feature_25', 'hog_feature_26', 'hog_feature_27', 'hog_feature_28', 'hog_feature_29', 'hog_feature_30', 'hog_feature_31', 'hog_feature_32', 'hog_feature_33', 'hog_feature_34', 'hog_feature_35', 'hog_feature_36', 'hog_feature_37', 'hog_feature_38', 'hog_feature_39', 'hog_feature_40', 'hog_feature_41', 'hog_feature_42', 'hog_feature_43', 'hog_feature_44', 'hog_feature_45', 'hog_feature_46', 'hog_feature_47', 'hog_feature_48', 'hog_feature_49', 'hog_feature_50', 'hog_feature_51', 'hog_feature_52', 'hog_feature_53', 'hog_feature_54', 'hog_feature_55', 'hog_feature_56', 'hog_feature_57', 'hog_feature_58', 'hog_feature_59', 'hog_feature_60', 'hog_feature_61', 'hog_feature_62', 'hog_feature_63', 'hog_feature_64', 'hog_feature_65', 'hog_feature_66', 'hog_feature_67', 'hog_feature_68', 'hog_feature_69', 'hog_feature_70', 'hog_feature_71', 'hog_feature_72', 'hog_feature_73', 'hog_feature_74', 'hog_feature_75', 'hog_feature_76', 'hog_feature_77', 'hog_feature_78', 'hog_feature_79', 'hog_feature_80', 'hog_feature_81', 'hog_feature_82', 'hog_feature_83', 'hog_feature_84', 'hog_feature_85', 'hog_feature_86', 'hog_feature_87', 'hog_feature_88', 'hog_feature_89', 'hog_feature_90', 'hog_feature_91', 'hog_feature_92', 'hog_feature_93', 'hog_feature_94', 'hog_feature_95', 'hog_feature_96', 'hog_feature_97', 'hog_feature_98', 'hog_feature_99', 'hog_feature_100', 'hog_feature_101', 'hog_feature_102', 'hog_feature_103', 'hog_feature_104', 'hog_feature_105', 'hog_feature_106', 'hog_feature_107', 'hog_feature_108', 'hog_feature_109', 'hog_feature_110', 'hog_feature_111', 'hog_feature_112', 'hog_feature_113', 'hog_feature_114', 'hog_feature_115', 'hog_feature_116', 'hog_feature_117', 'hog_feature_118', 'hog_feature_119', 'hog_feature_120', 'hog_feature_121', 'hog_feature_122', 'hog_feature_123', 'hog_feature_124', 'hog_feature_125', 'hog_feature_126', 'hog_feature_127', 'hog_feature_128', 'hog_feature_129', 'hog_feature_130', 'hog_feature_131', 'hog_feature_132', 'hog_feature_133', 'hog_feature_134', 'hog_feature_135', 'hog_feature_136', 'hog_feature_137', 'hog_feature_138', 'hog_feature_139', 'hog_feature_140', 'hog_feature_141', 'hog_feature_142', 'hog_feature_143', 'hog_feature_144', 'hog_feature_145', 'hog_feature_146', 'hog_feature_147', 'hog_feature_148', 'hog_feature_149', 'hog_feature_150', 'hog_feature_151', 'hog_feature_152', 'hog_feature_153', 'hog_feature_154', 'hog_feature_155', 'hog_feature_156', 'hog_feature_157', 'hog_feature_158', 'hog_feature_159', 'hog_feature_160', 'hog_feature_161', 'hog_feature_162', 'hog_feature_163', 'hog_feature_164', 'hog_feature_165', 'hog_feature_166', 'hog_feature_167', 'hog_feature_168', 'hog_feature_169', 'hog_feature_170', 'hog_feature_171', 'hog_feature_172', 'hog_feature_173', 'hog_feature_174', 'hog_feature_175', 'hog_feature_176', 'hog_feature_177', 'hog_feature_178', 'hog_feature_179', 'hog_feature_180', 'hog_feature_181', 'hog_feature_182', 'hog_feature_183', 'hog_feature_184', 'hog_feature_185', 'hog_feature_186', 'hog_feature_187', 'hog_feature_188', 'hog_feature_189', 'hog_feature_190', 'hog_feature_191', 'hog_feature_192', 'hog_feature_193', 'hog_feature_194', 'hog_feature_195', 'hog_feature_196', 'hog_feature_197', 'hog_feature_198', 'hog_feature_199', 'hog_feature_200', 'hog_feature_201', 'hog_feature_202', 'hog_feature_203', 'hog_feature_204', 'hog_feature_205', 'hog_feature_206', 'hog_feature_207', 'hog_feature_208', 'hog_feature_209', 'hog_feature_210', 'hog_feature_211', 'hog_feature_212', 'hog_feature_213', 'hog_feature_214', 'hog_feature_215', 'hog_feature_216', 'hog_feature_217', 'hog_feature_218', 'hog_feature_219', 'hog_feature_220', 'hog_feature_221', 'hog_feature_222', 'hog_feature_223', 'hog_feature_224', 'hog_feature_225', 'hog_feature_226', 'hog_feature_227', 'hog_feature_228', 'hog_feature_229', 'hog_feature_230', 'hog_feature_231', 'hog_feature_232', 'hog_feature_233', 'hog_feature_234', 'hog_feature_235', 'hog_feature_236', 'hog_feature_237', 'hog_feature_238', 'hog_feature_239', 'hog_feature_240', 'hog_feature_241', 'hog_feature_242', 'hog_feature_243', 'hog_feature_244', 'hog_feature_245', 'hog_feature_246', 'hog_feature_247', 'hog_feature_248', 'hog_feature_249', 'hog_feature_250', 'hog_feature_251', 'hog_feature_252', 'hog_feature_253', 'hog_feature_254', 'hog_feature_255', 'hog_feature_256', 'hog_feature_257', 'hog_feature_258', 'hog_feature_259', 'hog_feature_260', 'hog_feature_261', 'hog_feature_262', 'hog_feature_263', 'hog_feature_264', 'hog_feature_265', 'hog_feature_266', 'hog_feature_267', 'hog_feature_268', 'hog_feature_269', 'hog_feature_270', 'hog_feature_271', 'hog_feature_272', 'hog_feature_273', 'hog_feature_274', 'hog_feature_275', 'hog_feature_276', 'hog_feature_277', 'hog_feature_278', 'hog_feature_279', 'hog_feature_280', 'hog_feature_281', 'hog_feature_282', 'hog_feature_283', 'hog_feature_284', 'hog_feature_285', 'hog_feature_286', 'hog_feature_287', 'hog_feature_288', 'hog_feature_289', 'hog_feature_290', 'hog_feature_291', 'hog_feature_292', 'hog_feature_293', 'hog_feature_294', 'hog_feature_295', 'hog_feature_296', 'hog_feature_297', 'hog_feature_298', 'hog_feature_299', 'hog_feature_300', 'hog_feature_301', 'hog_feature_302', 'hog_feature_303', 'hog_feature_304', 'hog_feature_305', 'hog_feature_306', 'hog_feature_307', 'hog_feature_308', 'hog_feature_309', 'hog_feature_310', 'hog_feature_311', 'hog_feature_312', 'hog_feature_313', 'hog_feature_314', 'hog_feature_315', 'hog_feature_316', 'hog_feature_317', 'hog_feature_318', 'hog_feature_319', 'hog_feature_320', 'hog_feature_321', 'hog_feature_322', 'hog_feature_323', 'hog_feature_324', 'hog_feature_325', 'hog_feature_326', 'hog_feature_327', 'hog_feature_328', 'hog_feature_329', 'hog_feature_330', 'hog_feature_331', 'hog_feature_332', 'hog_feature_333', 'hog_feature_334', 'hog_feature_335', 'hog_feature_336', 'hog_feature_337', 'hog_feature_338', 'hog_feature_339', 'hog_feature_340', 'hog_feature_341', 'hog_feature_342', 'hog_feature_343', 'hog_feature_344', 'hog_feature_345', 'hog_feature_346', 'hog_feature_347', 'hog_feature_348', 'hog_feature_349', 'hog_feature_350', 'hog_feature_351', 'hog_feature_352', 'hog_feature_353', 'hog_feature_354', 'hog_feature_355', 'hog_feature_356', 'hog_feature_357', 'hog_feature_358', 'hog_feature_359', 'hog_feature_360', 'hog_feature_361', 'hog_feature_362', 'hog_feature_363', 'hog_feature_364', 'hog_feature_365', 'hog_feature_366', 'hog_feature_367', 'hog_feature_368', 'hog_feature_369', 'hog_feature_370', 'hog_feature_371', 'hog_feature_372', 'hog_feature_373', 'hog_feature_374', 'hog_feature_375', 'hog_feature_376', 'hog_feature_377', 'hog_feature_378', 'hog_feature_379', 'hog_feature_380', 'hog_feature_381', 'hog_feature_382', 'hog_feature_383', 'hog_feature_384', 'hog_feature_385', 'hog_feature_386', 'hog_feature_387', 'hog_feature_388', 'hog_feature_389', 'hog_feature_390', 'hog_feature_391', 'hog_feature_392', 'hog_feature_393', 'hog_feature_394', 'hog_feature_395', 'hog_feature_396', 'hog_feature_397', 'hog_feature_398', 'hog_feature_399', 'hog_feature_400', 'hog_feature_401', 'hog_feature_402', 'hog_feature_403', 'hog_feature_404', 'hog_feature_405', 'hog_feature_406', 'hog_feature_407', 'hog_feature_408', 'hog_feature_409', 'hog_feature_410', 'hog_feature_411', 'hog_feature_412', 'hog_feature_413', 'hog_feature_414', 'hog_feature_415', 'hog_feature_416', 'hog_feature_417', 'hog_feature_418', 'hog_feature_419', 'hog_feature_420', 'hog_feature_421', 'hog_feature_422', 'hog_feature_423', 'hog_feature_424', 'hog_feature_425', 'hog_feature_426', 'hog_feature_427', 'hog_feature_428', 'hog_feature_429', 'hog_feature_430', 'hog_feature_431', 'hog_feature_432', 'hog_feature_433', 'hog_feature_434', 'hog_feature_435', 'hog_feature_436', 'hog_feature_437', 'hog_feature_438', 'hog_feature_439', 'hog_feature_440', 'hog_feature_441', 'hog_feature_442', 'hog_feature_443', 'hog_feature_444', 'hog_feature_445', 'hog_feature_446', 'hog_feature_447', 'hog_feature_448', 'hog_feature_449', 'hog_feature_450', 'hog_feature_451', 'hog_feature_452', 'hog_feature_453', 'hog_feature_454', 'hog_feature_455', 'hog_feature_456', 'hog_feature_457', 'hog_feature_458', 'hog_feature_459', 'hog_feature_460', 'hog_feature_461', 'hog_feature_462', 'hog_feature_463', 'hog_feature_464', 'hog_feature_465', 'hog_feature_466', 'hog_feature_467', 'hog_feature_468', 'hog_feature_469', 'hog_feature_470', 'hog_feature_471', 'hog_feature_472', 'hog_feature_473', 'hog_feature_474', 'hog_feature_475', 'hog_feature_476', 'hog_feature_477', 'hog_feature_478', 'hog_feature_479', 'hog_feature_480', 'hog_feature_481', 'hog_feature_482', 'hog_feature_483', 'hog_feature_484', 'hog_feature_485', 'hog_feature_486', 'hog_feature_487', 'hog_feature_488', 'hog_feature_489', 'hog_feature_490', 'hog_feature_491', 'hog_feature_492', 'hog_feature_493', 'hog_feature_494', 'hog_feature_495', 'hog_feature_496', 'hog_feature_497', 'hog_feature_498', 'hog_feature_499', 'hog_feature_500', 'hog_feature_501', 'hog_feature_502', 'hog_feature_503', 'hog_feature_504', 'hog_feature_505', 'hog_feature_506', 'hog_feature_507', 'hog_feature_508', 'hog_feature_509', 'hog_feature_510', 'hog_feature_511', 'hog_feature_512', 'hog_feature_513', 'hog_feature_514', 'hog_feature_515', 'hog_feature_516', 'hog_feature_517', 'hog_feature_518', 'hog_feature_519', 'hog_feature_520', 'hog_feature_521', 'hog_feature_522', 'hog_feature_523', 'hog_feature_524', 'hog_feature_525', 'hog_feature_526', 'hog_feature_527', 'hog_feature_528', 'hog_feature_529', 'hog_feature_530', 'hog_feature_531', 'hog_feature_532', 'hog_feature_533', 'hog_feature_534', 'hog_feature_535', 'hog_feature_536', 'hog_feature_537', 'hog_feature_538', 'hog_feature_539', 'hog_feature_540', 'hog_feature_541', 'hog_feature_542', 'hog_feature_543', 'hog_feature_544', 'hog_feature_545', 'hog_feature_546', 'hog_feature_547', 'hog_feature_548', 'hog_feature_549', 'hog_feature_550', 'hog_feature_551', 'hog_feature_552', 'hog_feature_553', 'hog_feature_554', 'hog_feature_555', 'hog_feature_556', 'hog_feature_557', 'hog_feature_558', 'hog_feature_559', 'hog_feature_560', 'hog_feature_561', 'hog_feature_562', 'hog_feature_563', 'hog_feature_564', 'hog_feature_565', 'hog_feature_566', 'hog_feature_567', 'hog_feature_568', 'hog_feature_569', 'hog_feature_570', 'hog_feature_571', 'hog_feature_572', 'hog_feature_573', 'hog_feature_574', 'hog_feature_575', 'hog_feature_576', 'hog_feature_577', 'hog_feature_578', 'hog_feature_579', 'hog_feature_580', 'hog_feature_581', 'hog_feature_582', 'hog_feature_583', 'hog_feature_584', 'hog_feature_585', 'hog_feature_586', 'hog_feature_587', 'hog_feature_588', 'hog_feature_589', 'hog_feature_590', 'hog_feature_591', 'hog_feature_592', 'hog_feature_593', 'hog_feature_594', 'hog_feature_595', 'hog_feature_596', 'hog_feature_597', 'hog_feature_598', 'hog_feature_599', 'hog_feature_600', 'hog_feature_601', 'hog_feature_602', 'hog_feature_603', 'hog_feature_604', 'hog_feature_605', 'hog_feature_606', 'hog_feature_607', 'hog_feature_608', 'hog_feature_609', 'hog_feature_610', 'hog_feature_611', 'hog_feature_612', 'hog_feature_613', 'hog_feature_614', 'hog_feature_615', 'hog_feature_616', 'hog_feature_617', 'hog_feature_618', 'hog_feature_619', 'hog_feature_620', 'hog_feature_621', 'hog_feature_622', 'hog_feature_623', 'hog_feature_624', 'hog_feature_625', 'hog_feature_626', 'hog_feature_627', 'hog_feature_628', 'hog_feature_629', 'hog_feature_630', 'hog_feature_631', 'hog_feature_632', 'hog_feature_633', 'hog_feature_634', 'hog_feature_635', 'hog_feature_636', 'hog_feature_637', 'hog_feature_638', 'hog_feature_639', 'hog_feature_640', 'hog_feature_641', 'hog_feature_642', 'hog_feature_643', 'hog_feature_644', 'hog_feature_645', 'hog_feature_646', 'hog_feature_647', 'hog_feature_648', 'hog_feature_649', 'hog_feature_650', 'hog_feature_651', 'hog_feature_652', 'hog_feature_653', 'hog_feature_654', 'hog_feature_655', 'hog_feature_656', 'hog_feature_657', 'hog_feature_658', 'hog_feature_659', 'hog_feature_660', 'hog_feature_661', 'hog_feature_662', 'hog_feature_663', 'hog_feature_664', 'hog_feature_665', 'hog_feature_666', 'hog_feature_667', 'hog_feature_668', 'hog_feature_669', 'hog_feature_670', 'hog_feature_671', 'hog_feature_672', 'hog_feature_673', 'hog_feature_674', 'hog_feature_675', 'hog_feature_676', 'hog_feature_677', 'hog_feature_678', 'hog_feature_679', 'hog_feature_680', 'hog_feature_681', 'hog_feature_682', 'hog_feature_683', 'hog_feature_684', 'hog_feature_685', 'hog_feature_686', 'hog_feature_687', 'hog_feature_688', 'hog_feature_689', 'hog_feature_690', 'hog_feature_691', 'hog_feature_692', 'hog_feature_693', 'hog_feature_694', 'hog_feature_695', 'hog_feature_696', 'hog_feature_697', 'hog_feature_698', 'hog_feature_699', 'hog_feature_700', 'hog_feature_701', 'hog_feature_702', 'hog_feature_703', 'hog_feature_704', 'hog_feature_705', 'hog_feature_706', 'hog_feature_707', 'hog_feature_708', 'hog_feature_709', 'hog_feature_710', 'hog_feature_711', 'hog_feature_712', 'hog_feature_713', 'hog_feature_714', 'hog_feature_715', 'hog_feature_716', 'hog_feature_717', 'hog_feature_718', 'hog_feature_719', 'hog_feature_720', 'hog_feature_721', 'hog_feature_722', 'hog_feature_723', 'hog_feature_724', 'hog_feature_725', 'hog_feature_726', 'hog_feature_727', 'hog_feature_728', 'hog_feature_729', 'hog_feature_730', 'hog_feature_731', 'hog_feature_732', 'hog_feature_733', 'hog_feature_734', 'hog_feature_735', 'hog_feature_736', 'hog_feature_737', 'hog_feature_738', 'hog_feature_739', 'hog_feature_740', 'hog_feature_741', 'hog_feature_742', 'hog_feature_743', 'hog_feature_744', 'hog_feature_745', 'hog_feature_746', 'hog_feature_747', 'hog_feature_748', 'hog_feature_749', 'hog_feature_750', 'hog_feature_751', 'hog_feature_752', 'hog_feature_753', 'hog_feature_754', 'hog_feature_755', 'hog_feature_756', 'hog_feature_757', 'hog_feature_758', 'hog_feature_759', 'hog_feature_760', 'hog_feature_761', 'hog_feature_762', 'hog_feature_763', 'hog_feature_764', 'hog_feature_765', 'hog_feature_766', 'hog_feature_767', 'hog_feature_768', 'hog_feature_769', 'hog_feature_770', 'hog_feature_771', 'hog_feature_772', 'hog_feature_773', 'hog_feature_774', 'hog_feature_775', 'hog_feature_776', 'hog_feature_777', 'hog_feature_778', 'hog_feature_779', 'hog_feature_780', 'hog_feature_781', 'hog_feature_782', 'hog_feature_783', 'hog_feature_784', 'hog_feature_785', 'hog_feature_786', 'hog_feature_787', 'hog_feature_788', 'hog_feature_789', 'hog_feature_790', 'hog_feature_791', 'hog_feature_792', 'hog_feature_793', 'hog_feature_794', 'hog_feature_795', 'hog_feature_796', 'hog_feature_797', 'hog_feature_798', 'hog_feature_799', 'hog_feature_800', 'hog_feature_801', 'hog_feature_802', 'hog_feature_803', 'hog_feature_804', 'hog_feature_805', 'hog_feature_806', 'hog_feature_807', 'hog_feature_808', 'hog_feature_809', 'hog_feature_810', 'hog_feature_811', 'hog_feature_812', 'hog_feature_813', 'hog_feature_814', 'hog_feature_815', 'hog_feature_816', 'hog_feature_817', 'hog_feature_818', 'hog_feature_819', 'hog_feature_820', 'hog_feature_821', 'hog_feature_822', 'hog_feature_823', 'hog_feature_824', 'hog_feature_825', 'hog_feature_826', 'hog_feature_827', 'hog_feature_828', 'hog_feature_829', 'hog_feature_830', 'hog_feature_831', 'hog_feature_832', 'hog_feature_833', 'hog_feature_834', 'hog_feature_835', 'hog_feature_836', 'hog_feature_837', 'hog_feature_838', 'hog_feature_839', 'hog_feature_840', 'hog_feature_841', 'hog_feature_842', 'hog_feature_843', 'hog_feature_844', 'hog_feature_845', 'hog_feature_846', 'hog_feature_847', 'hog_feature_848', 'hog_feature_849', 'hog_feature_850', 'hog_feature_851', 'hog_feature_852', 'hog_feature_853', 'hog_feature_854', 'hog_feature_855', 'hog_feature_856', 'hog_feature_857', 'hog_feature_858', 'hog_feature_859', 'hog_feature_860', 'hog_feature_861', 'hog_feature_862', 'hog_feature_863', 'hog_feature_864', 'hog_feature_865', 'hog_feature_866', 'hog_feature_867', 'hog_feature_868', 'hog_feature_869', 'hog_feature_870', 'hog_feature_871', 'hog_feature_872', 'hog_feature_873', 'hog_feature_874', 'hog_feature_875', 'hog_feature_876', 'hog_feature_877', 'hog_feature_878', 'hog_feature_879', 'hog_feature_880', 'hog_feature_881', 'hog_feature_882', 'hog_feature_883', 'hog_feature_884', 'hog_feature_885', 'hog_feature_886', 'hog_feature_887', 'hog_feature_888', 'hog_feature_889', 'hog_feature_890', 'hog_feature_891', 'hog_feature_892', 'hog_feature_893', 'hog_feature_894', 'hog_feature_895', 'hog_feature_896', 'hog_feature_897', 'hog_feature_898', 'hog_feature_899', 'hog_feature_900', 'hog_feature_901', 'hog_feature_902', 'hog_feature_903', 'hog_feature_904', 'hog_feature_905', 'hog_feature_906', 'hog_feature_907', 'hog_feature_908', 'hog_feature_909', 'hog_feature_910', 'hog_feature_911', 'hog_feature_912', 'hog_feature_913', 'hog_feature_914', 'hog_feature_915', 'hog_feature_916', 'hog_feature_917', 'hog_feature_918', 'hog_feature_919', 'hog_feature_920', 'hog_feature_921', 'hog_feature_922', 'hog_feature_923', 'hog_feature_924', 'hog_feature_925', 'hog_feature_926', 'hog_feature_927', 'hog_feature_928', 'hog_feature_929', 'hog_feature_930', 'hog_feature_931', 'hog_feature_932', 'hog_feature_933', 'hog_feature_934', 'hog_feature_935', 'hog_feature_936', 'hog_feature_937', 'hog_feature_938', 'hog_feature_939', 'hog_feature_940', 'hog_feature_941', 'hog_feature_942', 'hog_feature_943', 'hog_feature_944', 'hog_feature_945', 'hog_feature_946', 'hog_feature_947', 'hog_feature_948', 'hog_feature_949', 'hog_feature_950', 'hog_feature_951', 'hog_feature_952', 'hog_feature_953', 'hog_feature_954', 'hog_feature_955', 'hog_feature_956', 'hog_feature_957', 'hog_feature_958', 'hog_feature_959', 'hog_feature_960', 'hog_feature_961', 'hog_feature_962', 'hog_feature_963', 'hog_feature_964', 'hog_feature_965', 'hog_feature_966', 'hog_feature_967', 'hog_feature_968', 'hog_feature_969', 'hog_feature_970', 'hog_feature_971', 'hog_feature_972', 'hog_feature_973', 'hog_feature_974', 'hog_feature_975', 'hog_feature_976', 'hog_feature_977', 'hog_feature_978', 'hog_feature_979', 'hog_feature_980', 'hog_feature_981', 'hog_feature_982', 'hog_feature_983', 'hog_feature_984', 'hog_feature_985', 'hog_feature_986', 'hog_feature_987', 'hog_feature_988', 'hog_feature_989', 'hog_feature_990', 'hog_feature_991', 'hog_feature_992', 'hog_feature_993', 'hog_feature_994', 'hog_feature_995', 'hog_feature_996', 'hog_feature_997', 'hog_feature_998', 'hog_feature_999', 'hog_feature_1000', 'hog_feature_1001', 'hog_feature_1002', 'hog_feature_1003', 'hog_feature_1004', 'hog_feature_1005', 'hog_feature_1006', 'hog_feature_1007', 'hog_feature_1008', 'hog_feature_1009', 'hog_feature_1010', 'hog_feature_1011', 'hog_feature_1012', 'hog_feature_1013', 'hog_feature_1014', 'hog_feature_1015', 'hog_feature_1016', 'hog_feature_1017', 'hog_feature_1018', 'hog_feature_1019', 'hog_feature_1020', 'hog_feature_1021', 'hog_feature_1022', 'hog_feature_1023', 'hog_feature_1024', 'hog_feature_1025', 'hog_feature_1026', 'hog_feature_1027', 'hog_feature_1028', 'hog_feature_1029', 'hog_feature_1030', 'hog_feature_1031', 'hog_feature_1032', 'hog_feature_1033', 'hog_feature_1034', 'hog_feature_1035', 'hog_feature_1036', 'hog_feature_1037', 'hog_feature_1038', 'hog_feature_1039', 'hog_feature_1040', 'hog_feature_1041', 'hog_feature_1042', 'hog_feature_1043', 'hog_feature_1044', 'hog_feature_1045', 'hog_feature_1046', 'hog_feature_1047', 'hog_feature_1048', 'hog_feature_1049', 'hog_feature_1050', 'hog_feature_1051', 'hog_feature_1052', 'hog_feature_1053', 'hog_feature_1054', 'hog_feature_1055', 'hog_feature_1056', 'hog_feature_1057', 'hog_feature_1058', 'hog_feature_1059', 'hog_feature_1060', 'hog_feature_1061', 'hog_feature_1062', 'hog_feature_1063', 'hog_feature_1064', 'hog_feature_1065', 'hog_feature_1066', 'hog_feature_1067', 'hog_feature_1068', 'hog_feature_1069', 'hog_feature_1070', 'hog_feature_1071', 'hog_feature_1072', 'hog_feature_1073', 'hog_feature_1074', 'hog_feature_1075', 'hog_feature_1076', 'hog_feature_1077', 'hog_feature_1078', 'hog_feature_1079', 'hog_feature_1080', 'hog_feature_1081', 'hog_feature_1082', 'hog_feature_1083', 'hog_feature_1084', 'hog_feature_1085', 'hog_feature_1086', 'hog_feature_1087', 'hog_feature_1088', 'hog_feature_1089', 'hog_feature_1090', 'hog_feature_1091', 'hog_feature_1092', 'hog_feature_1093', 'hog_feature_1094', 'hog_feature_1095', 'hog_feature_1096', 'hog_feature_1097', 'hog_feature_1098', 'hog_feature_1099', 'hog_feature_1100', 'hog_feature_1101', 'hog_feature_1102', 'hog_feature_1103', 'hog_feature_1104', 'hog_feature_1105', 'hog_feature_1106', 'hog_feature_1107', 'hog_feature_1108', 'hog_feature_1109', 'hog_feature_1110', 'hog_feature_1111', 'hog_feature_1112', 'hog_feature_1113', 'hog_feature_1114', 'hog_feature_1115', 'hog_feature_1116', 'hog_feature_1117', 'hog_feature_1118', 'hog_feature_1119', 'hog_feature_1120', 'hog_feature_1121', 'hog_feature_1122', 'hog_feature_1123', 'hog_feature_1124', 'hog_feature_1125', 'hog_feature_1126', 'hog_feature_1127', 'hog_feature_1128', 'hog_feature_1129', 'hog_feature_1130', 'hog_feature_1131', 'hog_feature_1132', 'hog_feature_1133', 'hog_feature_1134', 'hog_feature_1135', 'hog_feature_1136', 'hog_feature_1137', 'hog_feature_1138', 'hog_feature_1139', 'hog_feature_1140', 'hog_feature_1141', 'hog_feature_1142', 'hog_feature_1143', 'hog_feature_1144', 'hog_feature_1145', 'hog_feature_1146', 'hog_feature_1147', 'hog_feature_1148', 'hog_feature_1149', 'hog_feature_1150', 'hog_feature_1151', 'hog_feature_1152', 'hog_feature_1153', 'hog_feature_1154', 'hog_feature_1155', 'hog_feature_1156', 'hog_feature_1157', 'hog_feature_1158', 'hog_feature_1159', 'hog_feature_1160', 'hog_feature_1161', 'hog_feature_1162', 'hog_feature_1163', 'hog_feature_1164', 'hog_feature_1165', 'hog_feature_1166', 'hog_feature_1167', 'hog_feature_1168', 'hog_feature_1169', 'hog_feature_1170', 'hog_feature_1171', 'hog_feature_1172', 'hog_feature_1173', 'hog_feature_1174', 'hog_feature_1175', 'hog_feature_1176', 'hog_feature_1177', 'hog_feature_1178', 'hog_feature_1179', 'hog_feature_1180', 'hog_feature_1181', 'hog_feature_1182', 'hog_feature_1183', 'hog_feature_1184', 'hog_feature_1185', 'hog_feature_1186', 'hog_feature_1187', 'hog_feature_1188', 'hog_feature_1189', 'hog_feature_1190', 'hog_feature_1191', 'hog_feature_1192', 'hog_feature_1193', 'hog_feature_1194', 'hog_feature_1195', 'hog_feature_1196', 'hog_feature_1197', 'hog_feature_1198', 'hog_feature_1199', 'hog_feature_1200', 'hog_feature_1201', 'hog_feature_1202', 'hog_feature_1203', 'hog_feature_1204', 'hog_feature_1205', 'hog_feature_1206', 'hog_feature_1207', 'hog_feature_1208', 'hog_feature_1209', 'hog_feature_1210', 'hog_feature_1211', 'hog_feature_1212', 'hog_feature_1213', 'hog_feature_1214', 'hog_feature_1215', 'hog_feature_1216', 'hog_feature_1217', 'hog_feature_1218', 'hog_feature_1219', 'hog_feature_1220', 'hog_feature_1221', 'hog_feature_1222', 'hog_feature_1223', 'hog_feature_1224', 'hog_feature_1225', 'hog_feature_1226', 'hog_feature_1227', 'hog_feature_1228', 'hog_feature_1229', 'hog_feature_1230', 'hog_feature_1231', 'hog_feature_1232', 'hog_feature_1233', 'hog_feature_1234', 'hog_feature_1235', 'hog_feature_1236', 'hog_feature_1237', 'hog_feature_1238', 'hog_feature_1239', 'hog_feature_1240', 'hog_feature_1241', 'hog_feature_1242', 'hog_feature_1243', 'hog_feature_1244', 'hog_feature_1245', 'hog_feature_1246', 'hog_feature_1247', 'hog_feature_1248', 'hog_feature_1249', 'hog_feature_1250', 'hog_feature_1251', 'hog_feature_1252', 'hog_feature_1253', 'hog_feature_1254', 'hog_feature_1255', 'hog_feature_1256', 'hog_feature_1257', 'hog_feature_1258', 'hog_feature_1259', 'hog_feature_1260', 'hog_feature_1261', 'hog_feature_1262', 'hog_feature_1263', 'hog_feature_1264', 'hog_feature_1265', 'hog_feature_1266', 'hog_feature_1267', 'hog_feature_1268', 'hog_feature_1269', 'hog_feature_1270', 'hog_feature_1271', 'hog_feature_1272', 'hog_feature_1273', 'hog_feature_1274', 'hog_feature_1275', 'hog_feature_1276', 'hog_feature_1277', 'hog_feature_1278', 'hog_feature_1279', 'hog_feature_1280', 'hog_feature_1281', 'hog_feature_1282', 'hog_feature_1283', 'hog_feature_1284', 'hog_feature_1285', 'hog_feature_1286', 'hog_feature_1287', 'hog_feature_1288', 'hog_feature_1289', 'hog_feature_1290', 'hog_feature_1291', 'hog_feature_1292', 'hog_feature_1293', 'hog_feature_1294', 'hog_feature_1295', 'hog_feature_1296', 'hog_feature_1297', 'hog_feature_1298', 'hog_feature_1299', 'hog_feature_1300', 'hog_feature_1301', 'hog_feature_1302', 'hog_feature_1303', 'hog_feature_1304', 'hog_feature_1305', 'hog_feature_1306', 'hog_feature_1307', 'hog_feature_1308', 'hog_feature_1309', 'hog_feature_1310', 'hog_feature_1311', 'hog_feature_1312', 'hog_feature_1313', 'hog_feature_1314', 'hog_feature_1315', 'hog_feature_1316', 'hog_feature_1317', 'hog_feature_1318', 'hog_feature_1319', 'hog_feature_1320', 'hog_feature_1321', 'hog_feature_1322', 'hog_feature_1323', 'hog_feature_1324', 'hog_feature_1325', 'hog_feature_1326', 'hog_feature_1327', 'hog_feature_1328', 'hog_feature_1329', 'hog_feature_1330', 'hog_feature_1331', 'hog_feature_1332', 'hog_feature_1333', 'hog_feature_1334', 'hog_feature_1335', 'hog_feature_1336', 'hog_feature_1337', 'hog_feature_1338', 'hog_feature_1339', 'hog_feature_1340', 'hog_feature_1341', 'hog_feature_1342', 'hog_feature_1343', 'hog_feature_1344', 'hog_feature_1345', 'hog_feature_1346', 'hog_feature_1347', 'hog_feature_1348', 'hog_feature_1349', 'hog_feature_1350', 'hog_feature_1351', 'hog_feature_1352', 'hog_feature_1353', 'hog_feature_1354', 'hog_feature_1355', 'hog_feature_1356', 'hog_feature_1357', 'hog_feature_1358', 'hog_feature_1359', 'hog_feature_1360', 'hog_feature_1361', 'hog_feature_1362', 'hog_feature_1363', 'hog_feature_1364', 'hog_feature_1365', 'hog_feature_1366', 'hog_feature_1367', 'hog_feature_1368', 'hog_feature_1369', 'hog_feature_1370', 'hog_feature_1371', 'hog_feature_1372', 'hog_feature_1373', 'hog_feature_1374', 'hog_feature_1375', 'hog_feature_1376', 'hog_feature_1377', 'hog_feature_1378', 'hog_feature_1379', 'hog_feature_1380', 'hog_feature_1381', 'hog_feature_1382', 'hog_feature_1383', 'hog_feature_1384', 'hog_feature_1385', 'hog_feature_1386', 'hog_feature_1387', 'hog_feature_1388', 'hog_feature_1389', 'hog_feature_1390', 'hog_feature_1391', 'hog_feature_1392', 'hog_feature_1393', 'hog_feature_1394', 'hog_feature_1395', 'hog_feature_1396', 'hog_feature_1397', 'hog_feature_1398', 'hog_feature_1399', 'hog_feature_1400', 'hog_feature_1401', 'hog_feature_1402', 'hog_feature_1403', 'hog_feature_1404', 'hog_feature_1405', 'hog_feature_1406', 'hog_feature_1407', 'hog_feature_1408', 'hog_feature_1409', 'hog_feature_1410', 'hog_feature_1411', 'hog_feature_1412', 'hog_feature_1413', 'hog_feature_1414', 'hog_feature_1415', 'hog_feature_1416', 'hog_feature_1417', 'hog_feature_1418', 'hog_feature_1419', 'hog_feature_1420', 'hog_feature_1421', 'hog_feature_1422', 'hog_feature_1423', 'hog_feature_1424', 'hog_feature_1425', 'hog_feature_1426', 'hog_feature_1427', 'hog_feature_1428', 'hog_feature_1429', 'hog_feature_1430', 'hog_feature_1431', 'hog_feature_1432', 'hog_feature_1433', 'hog_feature_1434', 'hog_feature_1435', 'hog_feature_1436', 'hog_feature_1437', 'hog_feature_1438', 'hog_feature_1439', 'hog_feature_1440', 'hog_feature_1441', 'hog_feature_1442', 'hog_feature_1443', 'hog_feature_1444', 'hog_feature_1445', 'hog_feature_1446', 'hog_feature_1447', 'hog_feature_1448', 'hog_feature_1449', 'hog_feature_1450', 'hog_feature_1451', 'hog_feature_1452', 'hog_feature_1453', 'hog_feature_1454', 'hog_feature_1455', 'hog_feature_1456', 'hog_feature_1457', 'hog_feature_1458', 'hog_feature_1459', 'hog_feature_1460', 'hog_feature_1461', 'hog_feature_1462', 'hog_feature_1463', 'hog_feature_1464', 'hog_feature_1465', 'hog_feature_1466', 'hog_feature_1467', 'hog_feature_1468', 'hog_feature_1469', 'hog_feature_1470', 'hog_feature_1471', 'hog_feature_1472', 'hog_feature_1473', 'hog_feature_1474', 'hog_feature_1475', 'hog_feature_1476', 'hog_feature_1477', 'hog_feature_1478', 'hog_feature_1479', 'hog_feature_1480', 'hog_feature_1481', 'hog_feature_1482', 'hog_feature_1483', 'hog_feature_1484', 'hog_feature_1485', 'hog_feature_1486', 'hog_feature_1487', 'hog_feature_1488', 'hog_feature_1489', 'hog_feature_1490', 'hog_feature_1491', 'hog_feature_1492', 'hog_feature_1493', 'hog_feature_1494', 'hog_feature_1495', 'hog_feature_1496', 'hog_feature_1497', 'hog_feature_1498', 'hog_feature_1499', 'hog_feature_1500', 'hog_feature_1501', 'hog_feature_1502', 'hog_feature_1503', 'hog_feature_1504', 'hog_feature_1505', 'hog_feature_1506', 'hog_feature_1507', 'hog_feature_1508', 'hog_feature_1509', 'hog_feature_1510', 'hog_feature_1511', 'hog_feature_1512', 'hog_feature_1513', 'hog_feature_1514', 'hog_feature_1515', 'hog_feature_1516', 'hog_feature_1517', 'hog_feature_1518', 'hog_feature_1519', 'hog_feature_1520', 'hog_feature_1521', 'hog_feature_1522', 'hog_feature_1523', 'hog_feature_1524', 'hog_feature_1525', 'hog_feature_1526', 'hog_feature_1527', 'hog_feature_1528', 'hog_feature_1529', 'hog_feature_1530', 'hog_feature_1531', 'hog_feature_1532', 'hog_feature_1533', 'hog_feature_1534', 'hog_feature_1535', 'hog_feature_1536', 'hog_feature_1537', 'hog_feature_1538', 'hog_feature_1539', 'hog_feature_1540', 'hog_feature_1541', 'hog_feature_1542', 'hog_feature_1543', 'hog_feature_1544', 'hog_feature_1545', 'hog_feature_1546', 'hog_feature_1547', 'hog_feature_1548', 'hog_feature_1549', 'hog_feature_1550', 'hog_feature_1551', 'hog_feature_1552', 'hog_feature_1553', 'hog_feature_1554', 'hog_feature_1555', 'hog_feature_1556', 'hog_feature_1557', 'hog_feature_1558', 'hog_feature_1559', 'hog_feature_1560', 'hog_feature_1561', 'hog_feature_1562', 'hog_feature_1563', 'hog_feature_1564', 'hog_feature_1565', 'hog_feature_1566', 'hog_feature_1567', 'hog_feature_1568', 'hog_feature_1569', 'hog_feature_1570', 'hog_feature_1571', 'hog_feature_1572', 'hog_feature_1573', 'hog_feature_1574', 'hog_feature_1575', 'hog_feature_1576', 'hog_feature_1577', 'hog_feature_1578', 'hog_feature_1579', 'hog_feature_1580', 'hog_feature_1581', 'hog_feature_1582', 'hog_feature_1583', 'hog_feature_1584', 'hog_feature_1585', 'hog_feature_1586', 'hog_feature_1587', 'hog_feature_1588', 'hog_feature_1589', 'hog_feature_1590', 'hog_feature_1591', 'hog_feature_1592', 'hog_feature_1593', 'hog_feature_1594', 'hog_feature_1595', 'hog_feature_1596', 'hog_feature_1597', 'hog_feature_1598', 'hog_feature_1599', 'hog_feature_1600', 'hog_feature_1601', 'hog_feature_1602', 'hog_feature_1603', 'hog_feature_1604', 'hog_feature_1605', 'hog_feature_1606', 'hog_feature_1607', 'hog_feature_1608', 'hog_feature_1609', 'hog_feature_1610', 'hog_feature_1611', 'hog_feature_1612', 'hog_feature_1613', 'hog_feature_1614', 'hog_feature_1615', 'hog_feature_1616', 'hog_feature_1617', 'hog_feature_1618', 'hog_feature_1619', 'hog_feature_1620', 'hog_feature_1621', 'hog_feature_1622', 'hog_feature_1623', 'hog_feature_1624', 'hog_feature_1625', 'hog_feature_1626', 'hog_feature_1627', 'hog_feature_1628', 'hog_feature_1629', 'hog_feature_1630', 'hog_feature_1631', 'hog_feature_1632', 'hog_feature_1633', 'hog_feature_1634', 'hog_feature_1635', 'hog_feature_1636', 'hog_feature_1637', 'hog_feature_1638', 'hog_feature_1639', 'hog_feature_1640', 'hog_feature_1641', 'hog_feature_1642', 'hog_feature_1643', 'hog_feature_1644', 'hog_feature_1645', 'hog_feature_1646', 'hog_feature_1647', 'hog_feature_1648', 'hog_feature_1649', 'hog_feature_1650', 'hog_feature_1651', 'hog_feature_1652', 'hog_feature_1653', 'hog_feature_1654', 'hog_feature_1655', 'hog_feature_1656', 'hog_feature_1657', 'hog_feature_1658', 'hog_feature_1659', 'hog_feature_1660', 'hog_feature_1661', 'hog_feature_1662', 'hog_feature_1663', 'hog_feature_1664', 'hog_feature_1665', 'hog_feature_1666', 'hog_feature_1667', 'hog_feature_1668', 'hog_feature_1669', 'hog_feature_1670', 'hog_feature_1671', 'hog_feature_1672', 'hog_feature_1673', 'hog_feature_1674', 'hog_feature_1675', 'hog_feature_1676', 'hog_feature_1677', 'hog_feature_1678', 'hog_feature_1679', 'hog_feature_1680', 'hog_feature_1681', 'hog_feature_1682', 'hog_feature_1683', 'hog_feature_1684', 'hog_feature_1685', 'hog_feature_1686', 'hog_feature_1687', 'hog_feature_1688', 'hog_feature_1689', 'hog_feature_1690', 'hog_feature_1691', 'hog_feature_1692', 'hog_feature_1693', 'hog_feature_1694', 'hog_feature_1695', 'hog_feature_1696', 'hog_feature_1697', 'hog_feature_1698', 'hog_feature_1699', 'hog_feature_1700', 'hog_feature_1701', 'hog_feature_1702', 'hog_feature_1703', 'hog_feature_1704', 'hog_feature_1705', 'hog_feature_1706', 'hog_feature_1707', 'hog_feature_1708', 'hog_feature_1709', 'hog_feature_1710', 'hog_feature_1711', 'hog_feature_1712', 'hog_feature_1713', 'hog_feature_1714', 'hog_feature_1715', 'hog_feature_1716', 'hog_feature_1717', 'hog_feature_1718', 'hog_feature_1719', 'hog_feature_1720', 'hog_feature_1721', 'hog_feature_1722', 'hog_feature_1723', 'hog_feature_1724', 'hog_feature_1725', 'hog_feature_1726', 'hog_feature_1727', 'hog_feature_1728', 'hog_feature_1729', 'hog_feature_1730', 'hog_feature_1731', 'hog_feature_1732', 'hog_feature_1733', 'hog_feature_1734', 'hog_feature_1735', 'hog_feature_1736', 'hog_feature_1737', 'hog_feature_1738', 'hog_feature_1739', 'hog_feature_1740', 'hog_feature_1741', 'hog_feature_1742', 'hog_feature_1743', 'hog_feature_1744', 'hog_feature_1745', 'hog_feature_1746', 'hog_feature_1747', 'hog_feature_1748', 'hog_feature_1749', 'hog_feature_1750', 'hog_feature_1751', 'hog_feature_1752', 'hog_feature_1753', 'hog_feature_1754', 'hog_feature_1755', 'hog_feature_1756', 'hog_feature_1757', 'hog_feature_1758', 'hog_feature_1759', 'hog_feature_1760', 'hog_feature_1761', 'hog_feature_1762', 'hog_feature_1763', 'hog_feature_1764']\n",
            "     hog_feature_1  hog_feature_2  hog_feature_3  hog_feature_4   \n",
            "0         0.084853       0.027722       0.036928       0.032090  \\\n",
            "1         0.305661       0.305661       0.176793       0.021471   \n",
            "2         0.361522       0.228329       0.054187       0.042826   \n",
            "3         0.168099       0.148186       0.191521       0.166371   \n",
            "4         0.070950       0.070975       0.086015       0.081522   \n",
            "..             ...            ...            ...            ...   \n",
            "795       0.250918       0.057318       0.029505       0.015380   \n",
            "796       0.073023       0.016677       0.026662       0.038261   \n",
            "797       0.136788       0.082207       0.096157       0.150224   \n",
            "798       0.082158       0.024667       0.070989       0.195106   \n",
            "799       0.373851       0.373851       0.139856       0.000000   \n",
            "\n",
            "     hog_feature_5  hog_feature_6  hog_feature_7  hog_feature_8   \n",
            "0         0.086698       0.050455       0.060805       0.081789  \\\n",
            "1         0.077148       0.029869       0.069366       0.063370   \n",
            "2         0.093065       0.022565       0.009424       0.041886   \n",
            "3         0.163906       0.076359       0.043684       0.085527   \n",
            "4         0.252378       0.255504       0.042393       0.107687   \n",
            "..             ...            ...            ...            ...   \n",
            "795       0.013359       0.007367       0.013845       0.030143   \n",
            "796       0.131403       0.271130       0.271130       0.060075   \n",
            "797       0.283122       0.218783       0.093853       0.087610   \n",
            "798       0.396425       0.056884       0.023085       0.010993   \n",
            "799       0.089796       0.017202       0.000000       0.009424   \n",
            "\n",
            "     hog_feature_9  hog_feature_10  ...  hog_feature_1755  hog_feature_1756   \n",
            "0         0.056521        0.070473  ...          0.003315          0.052166  \\\n",
            "1         0.209867        0.305661  ...          0.215685          0.225170   \n",
            "2         0.278512        0.328713  ...          0.240572          0.240572   \n",
            "3         0.112824        0.215655  ...          0.199882          0.333729   \n",
            "4         0.060763        0.120249  ...          0.012667          0.021998   \n",
            "..             ...             ...  ...               ...               ...   \n",
            "795       0.230442        0.250918  ...          0.034349          0.323261   \n",
            "796       0.099250        0.079925  ...          0.055970          0.093869   \n",
            "797       0.068827        0.087976  ...          0.230955          0.203942   \n",
            "798       0.070762        0.041817  ...          0.017162          0.111067   \n",
            "799       0.024308        0.196679  ...          0.000000          0.096942   \n",
            "\n",
            "     hog_feature_1757  hog_feature_1758  hog_feature_1759  hog_feature_1760   \n",
            "0            0.037539          0.106693          0.147065          0.299273  \\\n",
            "1            0.225170          0.214797          0.061180          0.150053   \n",
            "2            0.113124          0.124601          0.071582          0.159714   \n",
            "3            0.247898          0.003158          0.001411          0.004907   \n",
            "4            0.021333          0.024285          0.032943          0.271017   \n",
            "..                ...               ...               ...               ...   \n",
            "795          0.173038          0.199434          0.271638          0.323261   \n",
            "796          0.076743          0.243064          0.166893          0.211655   \n",
            "797          0.128003          0.147093          0.124638          0.204609   \n",
            "798          0.134686          0.299854          0.299854          0.187045   \n",
            "799          0.373897          0.373897          0.000000          0.048334   \n",
            "\n",
            "     hog_feature_1761  hog_feature_1762  hog_feature_1763  hog_feature_1764  \n",
            "0            0.299273          0.109208          0.108265          0.105828  \n",
            "1            0.040649          0.051153          0.067246          0.101661  \n",
            "2            0.070683          0.143662          0.240572          0.240572  \n",
            "3            0.006060          0.012569          0.068807          0.333729  \n",
            "4            0.271017          0.029288          0.027683          0.022785  \n",
            "..                ...               ...               ...               ...  \n",
            "795          0.094999          0.079860          0.068990          0.323261  \n",
            "796          0.232238          0.181347          0.042074          0.042591  \n",
            "797          0.110255          0.124924          0.068847          0.145604  \n",
            "798          0.016191          0.018629          0.002005          0.042934  \n",
            "799          0.000000          0.000000          0.000000          0.000000  \n",
            "\n",
            "[800 rows x 1764 columns]\n"
          ]
        }
      ],
      "source": [
        "# Obtendo os nomes das colunas Numéricas\n",
        "tipos_numericos = ['int64', 'float64']\n",
        "atributos_numericos = dataset.select_dtypes(include=tipos_numericos)\n",
        "\n",
        "## selecionando as colunas\n",
        "colunas_numericas = list(atributos_numericos.columns)\n",
        "\n",
        "print(colunas_numericas)\n",
        "\n",
        "X = dataset[colunas_numericas] # Features\n",
        "y = dataset.classe      # Target variable (classe)\n",
        "\n",
        "print(X)"
      ]
    },
    {
      "cell_type": "code",
      "execution_count": 4,
      "metadata": {
        "colab": {
          "base_uri": "https://localhost:8080/"
        },
        "id": "LNWmhQvBRW6j",
        "outputId": "72685d73-b889-44ca-ed0f-a5fcf24a0816"
      },
      "outputs": [
        {
          "name": "stdout",
          "output_type": "stream",
          "text": [
            "(800, 112)\n"
          ]
        }
      ],
      "source": [
        "### Importando PCA do SkLearn\n",
        "from sklearn.decomposition import PCA\n",
        "\n",
        "# pca_obj \n",
        "pca_obj = PCA(n_components=0.75, whiten=True)\n",
        "pca_result = pca_obj.fit_transform(X)\n",
        "\n",
        "print(pca_result.shape)\n",
        "\n",
        "# Crie um DataFrame sem especificar nomes de colunas\n",
        "pca_dataset = pd.DataFrame(data=pca_result)"
      ]
    },
    {
      "cell_type": "code",
      "execution_count": 6,
      "metadata": {
        "colab": {
          "base_uri": "https://localhost:8080/",
          "height": 17
        },
        "id": "YYjYXYcOSVcd",
        "outputId": "b819d038-c1b7-48eb-9526-f138f255ad9e"
      },
      "outputs": [],
      "source": [
        "## Juntando o atributo classe\n",
        "final_data = pca_dataset.join(y)\n",
        "\n",
        "# Visualização dos dados normalizados\n",
        "final_data.head()\n",
        "\n",
        "# Salvando Pessoa.csv transformado\n",
        "df = pd.DataFrame(final_data)\n",
        "df.to_csv('HOG_16_PCA.csv', index=False)\n",
        "\n",
        "# Importando arquivo transformado\n",
        "#from google.colab import files\n",
        "#files.download('Image_PCA.csv')"
      ]
    },
    {
      "cell_type": "code",
      "execution_count": 8,
      "metadata": {
        "colab": {
          "base_uri": "https://localhost:8080/"
        },
        "id": "b7iPB4cEcBsk",
        "outputId": "4b43c089-e636-4a07-fd46-8916d823f78a"
      },
      "outputs": [
        {
          "name": "stdout",
          "output_type": "stream",
          "text": [
            "Accuracy: 0.529\n"
          ]
        },
        {
          "data": {
            "text/plain": [
              "array([[44, 85],\n",
              "       [28, 83]], dtype=int64)"
            ]
          },
          "execution_count": 8,
          "metadata": {},
          "output_type": "execute_result"
        }
      ],
      "source": [
        "from sklearn.neighbors import KNeighborsClassifier\n",
        "from sklearn.model_selection import train_test_split # Import train_test_split function\n",
        "from sklearn import metrics #Import scikit-learn metrics module for accuracy calculation\n",
        "from sklearn.metrics import confusion_matrix\n",
        "\n",
        "### Importing Dataset\n",
        "data = pd.read_csv('HOG_16_PCA.csv',encoding='utf-8')\n",
        "\n",
        "#split dataset in features and target variable\n",
        "tipos_numericos = ['int64', 'float64']\n",
        "atributos_numericos = data.select_dtypes(include=tipos_numericos)\n",
        "\n",
        "## selecionando as colunas\n",
        "colunas_numericas = list(atributos_numericos.columns)\n",
        "\n",
        "X = data[colunas_numericas] # Features\n",
        "y = data.classe # Target variable\n",
        "\n",
        "# Split dataset into training set and test set\n",
        "X_train_70, X_test_30, y_train_70, y_test_30 = train_test_split(X, y, test_size=0.3, random_state=1) # 70% training and 30% test\n",
        "\n",
        "# Create KNeighborsClassifier object\n",
        "knn = KNeighborsClassifier(n_neighbors=1, metric='euclidean')\n",
        "knn.fit(X_train_70, y_train_70)\n",
        "\n",
        "#Predict the response for test dataset\n",
        "y_pred = knn.predict(X_test_30)\n",
        "\n",
        "# Model Accuracy, how often is the classifier correct?\n",
        "acuracia = metrics.accuracy_score(y_test_30, y_pred)\n",
        "print('Accuracy: %.3f' % acuracia)\n",
        "\n",
        "# Matriz de confusão p/ 30%\n",
        "confusion_matrix(y_test_30, y_pred)"
      ]
    },
    {
      "cell_type": "code",
      "execution_count": 10,
      "metadata": {},
      "outputs": [
        {
          "ename": "ModuleNotFoundError",
          "evalue": "No module named 'keras'",
          "output_type": "error",
          "traceback": [
            "\u001b[1;31m---------------------------------------------------------------------------\u001b[0m",
            "\u001b[1;31mModuleNotFoundError\u001b[0m                       Traceback (most recent call last)",
            "\u001b[1;32md:\\Tecnologia da Informação (TI)\\P4 2023.2\\Aprendizado de Máquina\\ProjetoCatsDogs\\PCA_LDA_HOG16.ipynb Cell 6\u001b[0m line \u001b[0;36m2\n\u001b[0;32m      <a href='vscode-notebook-cell:/d%3A/Tecnologia%20da%20Informa%C3%A7%C3%A3o%20%28TI%29/P4%202023.2/Aprendizado%20de%20M%C3%A1quina/ProjetoCatsDogs/PCA_LDA_HOG16.ipynb#X15sZmlsZQ%3D%3D?line=0'>1</a>\u001b[0m \u001b[39m## Carregar as Libs necessarias\u001b[39;00m\n\u001b[1;32m----> <a href='vscode-notebook-cell:/d%3A/Tecnologia%20da%20Informa%C3%A7%C3%A3o%20%28TI%29/P4%202023.2/Aprendizado%20de%20M%C3%A1quina/ProjetoCatsDogs/PCA_LDA_HOG16.ipynb#X15sZmlsZQ%3D%3D?line=1'>2</a>\u001b[0m \u001b[39mfrom\u001b[39;00m \u001b[39mkeras\u001b[39;00m\u001b[39m.\u001b[39;00m\u001b[39mpreprocessing\u001b[39;00m \u001b[39mimport\u001b[39;00m image\n\u001b[0;32m      <a href='vscode-notebook-cell:/d%3A/Tecnologia%20da%20Informa%C3%A7%C3%A3o%20%28TI%29/P4%202023.2/Aprendizado%20de%20M%C3%A1quina/ProjetoCatsDogs/PCA_LDA_HOG16.ipynb#X15sZmlsZQ%3D%3D?line=2'>3</a>\u001b[0m \u001b[39mfrom\u001b[39;00m \u001b[39mkeras\u001b[39;00m\u001b[39m.\u001b[39;00m\u001b[39mapplications\u001b[39;00m\u001b[39m.\u001b[39;00m\u001b[39mvgg16\u001b[39;00m \u001b[39mimport\u001b[39;00m VGG16, preprocess_input\n\u001b[0;32m      <a href='vscode-notebook-cell:/d%3A/Tecnologia%20da%20Informa%C3%A7%C3%A3o%20%28TI%29/P4%202023.2/Aprendizado%20de%20M%C3%A1quina/ProjetoCatsDogs/PCA_LDA_HOG16.ipynb#X15sZmlsZQ%3D%3D?line=3'>4</a>\u001b[0m \u001b[39mimport\u001b[39;00m \u001b[39mnumpy\u001b[39;00m \u001b[39mas\u001b[39;00m \u001b[39mnp\u001b[39;00m\n",
            "\u001b[1;31mModuleNotFoundError\u001b[0m: No module named 'keras'"
          ]
        }
      ],
      "source": [
        "## Carregar as Libs necessarias\n",
        "from keras.preprocessing import image\n",
        "from keras.applications.vgg16 import VGG16, preprocess_input\n",
        "import numpy as np"
      ]
    }
  ],
  "metadata": {
    "colab": {
      "provenance": []
    },
    "kernelspec": {
      "display_name": "Python 3",
      "name": "python3"
    },
    "language_info": {
      "codemirror_mode": {
        "name": "ipython",
        "version": 3
      },
      "file_extension": ".py",
      "mimetype": "text/x-python",
      "name": "python",
      "nbconvert_exporter": "python",
      "pygments_lexer": "ipython3",
      "version": "3.10.6"
    }
  },
  "nbformat": 4,
  "nbformat_minor": 0
}
