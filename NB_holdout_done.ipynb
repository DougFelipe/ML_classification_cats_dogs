{
  "cells": [
    {
      "cell_type": "code",
      "execution_count": 15,
      "metadata": {
        "id": "eE1o0EfnxIAR"
      },
      "outputs": [],
      "source": [
        "### Carregar as Libraries\n",
        "import numpy as np\n",
        "import pandas as pd\n",
        "\n",
        "### Importing Dataset\n",
        "dataset = pd.read_csv('CNN_features_extracted_MAX.csv',encoding='utf-8')\n",
        "\n",
        "# Obtendo os nomes das colunas Numéricas\n",
        "tipos_numericos = ['int32', 'int64', 'float16', 'float32', 'float64']\n",
        "cols_num = dataset.select_dtypes(include=tipos_numericos)\n",
        "\n",
        "## Selecionando os atributos numéricos\n",
        "colunas_numericas = list(cols_num.columns)\n",
        "\n",
        "## Pegar a classe\n",
        "coluna_classe = dataset['classe']\n",
        "\n",
        "## Separando os atributos da classe\n",
        "X = dataset[colunas_numericas] # Features\n",
        "y = dataset.classe             # Target variable (classe)"
      ]
    },
    {
      "cell_type": "code",
      "execution_count": 13,
      "metadata": {},
      "outputs": [],
      "source": [
        "def train_and_evaluate(X, y, test_sizes, random_state=1):\n",
        "    \n",
        "    for test_size in test_sizes:\n",
        "        # Separando dataset em duas partes: treinamento e teste\n",
        "        X_train, X_test, y_train, y_test = train_test_split(X, y, test_size=test_size, random_state=random_state)\n",
        "\n",
        "        # Criar um objeto Gaussian Classifier\n",
        "        gnb = GaussianNB(priors=None, var_smoothing=1e-9)\n",
        "\n",
        "        # Treinar o classificador\n",
        "        gnb.fit(X_train, y_train)\n",
        "\n",
        "        # Prever a resposta para o conjunto de dados de teste\n",
        "        y_pred = gnb.predict(X_test)\n",
        "\n",
        "        # Acurácia do Modelo\n",
        "        acuracia = metrics.accuracy_score(y_test, y_pred)\n",
        "        print(f'test_size={test_size}: Accuracy: {acuracia:.3f}')\n",
        "        print()\n",
        "\n",
        "        # Matriz de confusão\n",
        "        print(f'Matriz de confusão para test_size={test_size}:')\n",
        "        print(confusion_matrix(y_test, y_pred))\n",
        "        print()\n",
        "\n"
      ]
    },
    {
      "cell_type": "code",
      "execution_count": 16,
      "metadata": {},
      "outputs": [
        {
          "name": "stdout",
          "output_type": "stream",
          "text": [
            "test_size=0.3: Accuracy: 0.496\n",
            "\n",
            "Matriz de confusão para test_size=0.3:\n",
            "[[ 10 119]\n",
            " [  2 109]]\n",
            "\n",
            "test_size=0.2: Accuracy: 0.519\n",
            "\n",
            "Matriz de confusão para test_size=0.2:\n",
            "[[ 8 74]\n",
            " [ 3 75]]\n",
            "\n",
            "test_size=0.1: Accuracy: 0.500\n",
            "\n",
            "Matriz de confusão para test_size=0.1:\n",
            "[[ 5 38]\n",
            " [ 2 35]]\n",
            "\n"
          ]
        }
      ],
      "source": [
        "# Lista de tamanhos de teste para avaliar\n",
        "test_sizes = [0.3, 0.2, 0.1]\n",
        "\n",
        "# Chame a função com seus dados e os tamanhos de teste desejados\n",
        "train_and_evaluate(X, y, test_sizes)"
      ]
    }
  ],
  "metadata": {
    "colab": {
      "provenance": []
    },
    "kernelspec": {
      "display_name": "Python 3",
      "name": "python3"
    },
    "language_info": {
      "codemirror_mode": {
        "name": "ipython",
        "version": 3
      },
      "file_extension": ".py",
      "mimetype": "text/x-python",
      "name": "python",
      "nbconvert_exporter": "python",
      "pygments_lexer": "ipython3",
      "version": "3.10.6"
    }
  },
  "nbformat": 4,
  "nbformat_minor": 0
}
