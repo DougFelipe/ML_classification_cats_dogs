{
  "cells": [
    {
      "cell_type": "code",
      "execution_count": 11,
      "metadata": {
        "colab": {
          "base_uri": "https://localhost:8080/"
        },
        "id": "rgMDtb6bf4t7",
        "outputId": "ef1fefa1-ae74-4955-f3f7-e1fac5571308"
      },
      "outputs": [
        {
          "name": "stdout",
          "output_type": "stream",
          "text": [
            "<class 'pandas.core.frame.DataFrame'>\n",
            "RangeIndex: 800 entries, 0 to 799\n",
            "Columns: 513 entries, classe to feature_511\n",
            "dtypes: float64(512), object(1)\n",
            "memory usage: 3.1+ MB\n"
          ]
        }
      ],
      "source": [
        "### Carregar as Libraries\n",
        "import pandas as pd\n",
        "from numpy import mean\n",
        "from numpy import std\n",
        "\n",
        "### Importing Dataset\n",
        "dataset = pd.read_csv('CNN_features_extracted_AVG.csv',encoding='utf-8')\n",
        "\n",
        "# Visualização dos atributos\n",
        "dataset.info()"
      ]
    },
    {
      "cell_type": "code",
      "execution_count": 12,
      "metadata": {
        "id": "zxE31I1rgJnh"
      },
      "outputs": [],
      "source": [
        "# Obtendo os nomes das colunas Numéricas\n",
        "tipos_numericos = ['int32', 'int64', 'float16', 'float32', 'float64']\n",
        "cols_num = dataset.select_dtypes(include=tipos_numericos)\n",
        "\n",
        "## Selecionando os atributos numéricos\n",
        "colunas_numericas = list(cols_num.columns)\n",
        "\n",
        "## Pegar a classe\n",
        "coluna_classe = dataset['classe']\n",
        "\n",
        "## Separando os atributos da classe\n",
        "X = dataset[colunas_numericas] # Features\n",
        "y = dataset.classe             # Target variable (classe)"
      ]
    },
    {
      "cell_type": "code",
      "execution_count": 3,
      "metadata": {
        "id": "lqQN0DCugUuN"
      },
      "outputs": [],
      "source": [
        "## Carregando o algoritmo / método / técnica k-NN\n",
        "from sklearn.neighbors import KNeighborsClassifier\n",
        "from sklearn.model_selection import train_test_split\n",
        "from sklearn.metrics import confusion_matrix\n",
        "from sklearn import metrics\n",
        "\n",
        "## Implementando k-fold CV\n",
        "from sklearn.model_selection import cross_val_score\n",
        "from sklearn.model_selection import cross_val_predict\n",
        "from sklearn.model_selection import KFold\n",
        "from sklearn.model_selection import cross_val_score\n",
        "from sklearn.model_selection import cross_val_predict"
      ]
    },
    {
      "cell_type": "code",
      "execution_count": 13,
      "metadata": {
        "colab": {
          "base_uri": "https://localhost:8080/"
        },
        "id": "zep5OVyGgXQD",
        "outputId": "ccf12974-b1c3-43d6-9748-988d2f0f102b"
      },
      "outputs": [
        {
          "name": "stdout",
          "output_type": "stream",
          "text": [
            "Accuracy: 0.581 (0.032)\n"
          ]
        },
        {
          "data": {
            "text/plain": [
              "array([[200, 200],\n",
              "       [135, 265]], dtype=int64)"
            ]
          },
          "execution_count": 13,
          "metadata": {},
          "output_type": "execute_result"
        }
      ],
      "source": [
        "# 10-fold CV\n",
        "kf = KFold(n_splits=10, random_state=1, shuffle=True)\n",
        "\n",
        "# Instanciando um objeto KNeighborsClassifier\n",
        "knn = KNeighborsClassifier(n_neighbors=1, metric='euclidean')\n",
        "\n",
        "# Model Accuracy\n",
        "scores = cross_val_score(knn, X, y, scoring='accuracy', cv=kf)\n",
        "print('Accuracy: %.3f (%.3f)' % (mean(scores), std(scores)))\n",
        "\n",
        "# Matriz de confusão p/ kf\n",
        "y_pred = cross_val_predict(knn, X, y, cv=kf)\n",
        "confusion_matrix(y, y_pred)"
      ]
    },
    {
      "cell_type": "code",
      "execution_count": 14,
      "metadata": {},
      "outputs": [],
      "source": [
        "#FUNÇÃO PARA CALCULAR A ACURÁCIA PARA OS VIZINHOS\n",
        "import numpy as np\n",
        "\n",
        "def calcular_acuracia_para_vizinhos(X, y):\n",
        "    acuracias = []\n",
        "\n",
        "    for n_neighbors in range(1, 11):\n",
        "        # Configure o KFold com 10 folds\n",
        "        kf = KFold(n_splits=10, random_state=1, shuffle=True)\n",
        "\n",
        "        # Instancie o objeto KNeighborsClassifier com o valor atual de n_neighbors\n",
        "        knn = KNeighborsClassifier(n_neighbors=n_neighbors, metric='euclidean')\n",
        "\n",
        "        # Calcule a acurácia usando validação cruzada k-fold\n",
        "        scores = cross_val_score(knn, X, y, scoring='accuracy', cv=kf)\n",
        "\n",
        "        # Calcule a média e o desvio padrão das acurácias\n",
        "        media_acuracia = np.mean(scores)\n",
        "        desvio_padrao_acuracia = np.std(scores)\n",
        "\n",
        "        acuracias.append((n_neighbors, media_acuracia, desvio_padrao_acuracia))\n",
        "\n",
        "        print(f'Acurácia para n_neighbors={n_neighbors}: Média = {media_acuracia:.3f}, Desvio Padrão = {desvio_padrao_acuracia:.3f}')\n",
        "\n",
        "    return acuracias\n"
      ]
    },
    {
      "cell_type": "code",
      "execution_count": 15,
      "metadata": {},
      "outputs": [
        {
          "name": "stdout",
          "output_type": "stream",
          "text": [
            "Acurácia para n_neighbors=1: Média = 0.581, Desvio Padrão = 0.032\n",
            "Acurácia para n_neighbors=2: Média = 0.593, Desvio Padrão = 0.043\n",
            "Acurácia para n_neighbors=3: Média = 0.584, Desvio Padrão = 0.045\n",
            "Acurácia para n_neighbors=4: Média = 0.595, Desvio Padrão = 0.047\n",
            "Acurácia para n_neighbors=5: Média = 0.567, Desvio Padrão = 0.037\n",
            "Acurácia para n_neighbors=6: Média = 0.599, Desvio Padrão = 0.050\n",
            "Acurácia para n_neighbors=7: Média = 0.581, Desvio Padrão = 0.041\n",
            "Acurácia para n_neighbors=8: Média = 0.596, Desvio Padrão = 0.041\n",
            "Acurácia para n_neighbors=9: Média = 0.596, Desvio Padrão = 0.054\n",
            "Acurácia para n_neighbors=10: Média = 0.596, Desvio Padrão = 0.044\n"
          ]
        }
      ],
      "source": [
        "# CHAMANDO A FUNÇÃO\tEM LOOP QUE MOSTRA A ACURACIA\n",
        "# Por exemplo:\n",
        "acuracias = calcular_acuracia_para_vizinhos(X, y)"
      ]
    }
  ],
  "metadata": {
    "colab": {
      "provenance": []
    },
    "kernelspec": {
      "display_name": "Python 3",
      "name": "python3"
    },
    "language_info": {
      "codemirror_mode": {
        "name": "ipython",
        "version": 3
      },
      "file_extension": ".py",
      "mimetype": "text/x-python",
      "name": "python",
      "nbconvert_exporter": "python",
      "pygments_lexer": "ipython3",
      "version": "3.10.6"
    }
  },
  "nbformat": 4,
  "nbformat_minor": 0
}
