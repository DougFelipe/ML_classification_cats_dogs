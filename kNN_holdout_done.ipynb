{
  "cells": [
    {
      "cell_type": "code",
      "execution_count": 1,
      "metadata": {
        "id": "NPcxp9RFTuqv"
      },
      "outputs": [],
      "source": [
        "### Carregar as Libraries\n",
        "import numpy as np\n",
        "import pandas as pd\n",
        "\n",
        "### Importing Dataset\n",
        "dataset = pd.read_csv('CNN_features_extracted_AVG.csv',encoding='utf-8')"
      ]
    },
    {
      "cell_type": "code",
      "execution_count": 2,
      "metadata": {},
      "outputs": [
        {
          "name": "stdout",
          "output_type": "stream",
          "text": [
            "  classe  feature_0  feature_1  feature_2  feature_3  feature_4  feature_5   \n",
            "0   cats        0.0        0.0        0.0        0.0        0.0        0.0  \\\n",
            "1   cats        0.0        0.0        0.0        0.0        0.0        0.0   \n",
            "2   cats        0.0        0.0        0.0        0.0        0.0        0.0   \n",
            "3   cats        0.0        0.0        0.0        0.0        0.0        0.0   \n",
            "4   cats        0.0        0.0        0.0        0.0        0.0        0.0   \n",
            "\n",
            "   feature_6  feature_7  feature_8  ...  feature_502  feature_503   \n",
            "0        0.0        0.0        0.0  ...    10.761448          0.0  \\\n",
            "1        0.0        0.0        0.0  ...    10.686021          0.0   \n",
            "2        0.0        0.0        0.0  ...    10.917923          0.0   \n",
            "3        0.0        0.0        0.0  ...    10.634926          0.0   \n",
            "4        0.0        0.0        0.0  ...    10.512546          0.0   \n",
            "\n",
            "   feature_504  feature_505  feature_506  feature_507  feature_508   \n",
            "0          0.0          0.0          0.0          0.0          0.0  \\\n",
            "1          0.0          0.0          0.0          0.0          0.0   \n",
            "2          0.0          0.0          0.0          0.0          0.0   \n",
            "3          0.0          0.0          0.0          0.0          0.0   \n",
            "4          0.0          0.0          0.0          0.0          0.0   \n",
            "\n",
            "   feature_509  feature_510  feature_511  \n",
            "0          0.0     3.091686          0.0  \n",
            "1          0.0     3.401634          0.0  \n",
            "2          0.0     3.211255          0.0  \n",
            "3          0.0     3.207171          0.0  \n",
            "4          0.0     3.153344          0.0  \n",
            "\n",
            "[5 rows x 513 columns]\n"
          ]
        }
      ],
      "source": [
        "print(dataset.head())"
      ]
    },
    {
      "cell_type": "code",
      "execution_count": 3,
      "metadata": {
        "colab": {
          "base_uri": "https://localhost:8080/"
        },
        "id": "kz-QcsJ-Ui_O",
        "outputId": "0da338ce-9a6a-4ef4-f3f4-e9176530c84c"
      },
      "outputs": [
        {
          "name": "stdout",
          "output_type": "stream",
          "text": [
            "<class 'pandas.core.frame.DataFrame'>\n",
            "RangeIndex: 800 entries, 0 to 799\n",
            "Columns: 513 entries, classe to feature_511\n",
            "dtypes: float64(512), object(1)\n",
            "memory usage: 3.1+ MB\n"
          ]
        }
      ],
      "source": [
        "# Visualização dos atributos\n",
        "dataset.info()"
      ]
    },
    {
      "cell_type": "code",
      "execution_count": 4,
      "metadata": {
        "id": "5xWG_PNYU9hq"
      },
      "outputs": [],
      "source": [
        "# Obtendo os nomes das colunas Numéricas\n",
        "tipos_numericos = ['int32', 'int64', 'float16', 'float32', 'float64']\n",
        "cols_num = dataset.select_dtypes(include=tipos_numericos)"
      ]
    },
    {
      "cell_type": "code",
      "execution_count": 5,
      "metadata": {
        "id": "o4kZpzMEUqa2"
      },
      "outputs": [],
      "source": [
        "## Selecionando os atributos numéricos\n",
        "colunas_numericas = list(cols_num.columns)"
      ]
    },
    {
      "cell_type": "code",
      "execution_count": 6,
      "metadata": {
        "id": "ON8opI-xVImM"
      },
      "outputs": [],
      "source": [
        "## Pegar a classe\n",
        "coluna_classe = dataset['classe']"
      ]
    },
    {
      "cell_type": "code",
      "execution_count": 7,
      "metadata": {
        "id": "JhIur81sVS0V"
      },
      "outputs": [],
      "source": [
        "## Separando os atributos da classe\n",
        "X = dataset[colunas_numericas] # Features\n",
        "y = dataset.classe             # Target variable (classe)"
      ]
    },
    {
      "cell_type": "code",
      "execution_count": 8,
      "metadata": {},
      "outputs": [],
      "source": [
        "## Separando os atributos da classe\n",
        "X = dataset[colunas_numericas] # Features\n",
        "y = dataset.classe             # Target variable (classe)"
      ]
    },
    {
      "cell_type": "code",
      "execution_count": 9,
      "metadata": {
        "id": "u-wFdoWNWFE3"
      },
      "outputs": [],
      "source": [
        "## Carregando o algoritmo / método / técnica k-NN\n",
        "from sklearn.neighbors import KNeighborsClassifier\n",
        "from sklearn.model_selection import train_test_split\n",
        "from sklearn import metrics\n",
        "from sklearn.metrics import confusion_matrix"
      ]
    },
    {
      "cell_type": "code",
      "execution_count": 13,
      "metadata": {
        "id": "u_LJjesQWmvu"
      },
      "outputs": [],
      "source": [
        "# Separando dataset em duas partes: treinamento e teste\n",
        "# 70% training and 30% test\n",
        "X_train_70, X_test_30, y_train_70, y_test_30 = train_test_split(X, y, test_size=0.3, random_state=1)"
      ]
    },
    {
      "cell_type": "code",
      "execution_count": 14,
      "metadata": {
        "id": "MYcVLxkZW7_n"
      },
      "outputs": [
        {
          "data": {
            "text/html": [
              "<style>#sk-container-id-2 {color: black;}#sk-container-id-2 pre{padding: 0;}#sk-container-id-2 div.sk-toggleable {background-color: white;}#sk-container-id-2 label.sk-toggleable__label {cursor: pointer;display: block;width: 100%;margin-bottom: 0;padding: 0.3em;box-sizing: border-box;text-align: center;}#sk-container-id-2 label.sk-toggleable__label-arrow:before {content: \"▸\";float: left;margin-right: 0.25em;color: #696969;}#sk-container-id-2 label.sk-toggleable__label-arrow:hover:before {color: black;}#sk-container-id-2 div.sk-estimator:hover label.sk-toggleable__label-arrow:before {color: black;}#sk-container-id-2 div.sk-toggleable__content {max-height: 0;max-width: 0;overflow: hidden;text-align: left;background-color: #f0f8ff;}#sk-container-id-2 div.sk-toggleable__content pre {margin: 0.2em;color: black;border-radius: 0.25em;background-color: #f0f8ff;}#sk-container-id-2 input.sk-toggleable__control:checked~div.sk-toggleable__content {max-height: 200px;max-width: 100%;overflow: auto;}#sk-container-id-2 input.sk-toggleable__control:checked~label.sk-toggleable__label-arrow:before {content: \"▾\";}#sk-container-id-2 div.sk-estimator input.sk-toggleable__control:checked~label.sk-toggleable__label {background-color: #d4ebff;}#sk-container-id-2 div.sk-label input.sk-toggleable__control:checked~label.sk-toggleable__label {background-color: #d4ebff;}#sk-container-id-2 input.sk-hidden--visually {border: 0;clip: rect(1px 1px 1px 1px);clip: rect(1px, 1px, 1px, 1px);height: 1px;margin: -1px;overflow: hidden;padding: 0;position: absolute;width: 1px;}#sk-container-id-2 div.sk-estimator {font-family: monospace;background-color: #f0f8ff;border: 1px dotted black;border-radius: 0.25em;box-sizing: border-box;margin-bottom: 0.5em;}#sk-container-id-2 div.sk-estimator:hover {background-color: #d4ebff;}#sk-container-id-2 div.sk-parallel-item::after {content: \"\";width: 100%;border-bottom: 1px solid gray;flex-grow: 1;}#sk-container-id-2 div.sk-label:hover label.sk-toggleable__label {background-color: #d4ebff;}#sk-container-id-2 div.sk-serial::before {content: \"\";position: absolute;border-left: 1px solid gray;box-sizing: border-box;top: 0;bottom: 0;left: 50%;z-index: 0;}#sk-container-id-2 div.sk-serial {display: flex;flex-direction: column;align-items: center;background-color: white;padding-right: 0.2em;padding-left: 0.2em;position: relative;}#sk-container-id-2 div.sk-item {position: relative;z-index: 1;}#sk-container-id-2 div.sk-parallel {display: flex;align-items: stretch;justify-content: center;background-color: white;position: relative;}#sk-container-id-2 div.sk-item::before, #sk-container-id-2 div.sk-parallel-item::before {content: \"\";position: absolute;border-left: 1px solid gray;box-sizing: border-box;top: 0;bottom: 0;left: 50%;z-index: -1;}#sk-container-id-2 div.sk-parallel-item {display: flex;flex-direction: column;z-index: 1;position: relative;background-color: white;}#sk-container-id-2 div.sk-parallel-item:first-child::after {align-self: flex-end;width: 50%;}#sk-container-id-2 div.sk-parallel-item:last-child::after {align-self: flex-start;width: 50%;}#sk-container-id-2 div.sk-parallel-item:only-child::after {width: 0;}#sk-container-id-2 div.sk-dashed-wrapped {border: 1px dashed gray;margin: 0 0.4em 0.5em 0.4em;box-sizing: border-box;padding-bottom: 0.4em;background-color: white;}#sk-container-id-2 div.sk-label label {font-family: monospace;font-weight: bold;display: inline-block;line-height: 1.2em;}#sk-container-id-2 div.sk-label-container {text-align: center;}#sk-container-id-2 div.sk-container {/* jupyter's `normalize.less` sets `[hidden] { display: none; }` but bootstrap.min.css set `[hidden] { display: none !important; }` so we also need the `!important` here to be able to override the default hidden behavior on the sphinx rendered scikit-learn.org. See: https://github.com/scikit-learn/scikit-learn/issues/21755 */display: inline-block !important;position: relative;}#sk-container-id-2 div.sk-text-repr-fallback {display: none;}</style><div id=\"sk-container-id-2\" class=\"sk-top-container\"><div class=\"sk-text-repr-fallback\"><pre>KNeighborsClassifier(metric=&#x27;euclidean&#x27;, n_neighbors=1)</pre><b>In a Jupyter environment, please rerun this cell to show the HTML representation or trust the notebook. <br />On GitHub, the HTML representation is unable to render, please try loading this page with nbviewer.org.</b></div><div class=\"sk-container\" hidden><div class=\"sk-item\"><div class=\"sk-estimator sk-toggleable\"><input class=\"sk-toggleable__control sk-hidden--visually\" id=\"sk-estimator-id-2\" type=\"checkbox\" checked><label for=\"sk-estimator-id-2\" class=\"sk-toggleable__label sk-toggleable__label-arrow\">KNeighborsClassifier</label><div class=\"sk-toggleable__content\"><pre>KNeighborsClassifier(metric=&#x27;euclidean&#x27;, n_neighbors=1)</pre></div></div></div></div></div>"
            ],
            "text/plain": [
              "KNeighborsClassifier(metric='euclidean', n_neighbors=1)"
            ]
          },
          "execution_count": 14,
          "metadata": {},
          "output_type": "execute_result"
        }
      ],
      "source": [
        "# Instanciando um objeto KNeighborsClassifier\n",
        "knn = KNeighborsClassifier(n_neighbors=1, metric='euclidean')\n",
        "knn.fit(X_train_70, y_train_70)\n"
      ]
    },
    {
      "cell_type": "code",
      "execution_count": 15,
      "metadata": {
        "colab": {
          "base_uri": "https://localhost:8080/"
        },
        "id": "tAkQx7hzXPCc",
        "outputId": "82f880c6-5b28-4e0a-ce50-a8a1213728c6"
      },
      "outputs": [
        {
          "name": "stdout",
          "output_type": "stream",
          "text": [
            "Accuracy: 0.588\n"
          ]
        },
        {
          "data": {
            "text/plain": [
              "array([[67, 62],\n",
              "       [37, 74]], dtype=int64)"
            ]
          },
          "execution_count": 15,
          "metadata": {},
          "output_type": "execute_result"
        }
      ],
      "source": [
        "# Utilizando a parte de teste para fazer a predição\n",
        "y_pred = knn.predict(X_test_30)\n",
        "\n",
        "# Model Accuracy\n",
        "acuracia = metrics.accuracy_score(y_test_30, y_pred)\n",
        "print('Accuracy: %.3f' % acuracia)\n",
        "\n",
        "# Matriz de confusão p/ 30%\n",
        "confusion_matrix(y_test_30, y_pred)"
      ]
    },
    {
      "cell_type": "code",
      "execution_count": 16,
      "metadata": {},
      "outputs": [],
      "source": [
        "\n",
        "def calcular_acuracia_para_vizinhos(X_train, y_train, X_test, y_test):\n",
        "    acuracias = []\n",
        "\n",
        "    for n_neighbors in range(1, 11):\n",
        "        # Instancie o objeto KNeighborsClassifier com o valor atual de n_neighbors\n",
        "        knn = KNeighborsClassifier(n_neighbors=n_neighbors, metric='euclidean')\n",
        "        knn.fit(X_train, y_train)\n",
        "\n",
        "        # Faça a predição usando a parte de teste\n",
        "        y_pred = knn.predict(X_test)\n",
        "\n",
        "        # Calcule a acurácia e a adicione à lista de acurácias\n",
        "        acuracia = metrics.accuracy_score(y_test, y_pred)\n",
        "        acuracias.append(acuracia)\n",
        "\n",
        "        print(f'Acurácia para n_neighbors={n_neighbors}: {acuracia:.3f}')\n",
        "\n",
        "    return acuracias\n",
        "\n",
        "# Substitua X_train_70, y_train_70, X_test_30 e y_test_30 pelos seus próprios conjuntos de treinamento e teste.\n",
        "# Por exemplo:\n",
        "\n"
      ]
    },
    {
      "cell_type": "code",
      "execution_count": 17,
      "metadata": {},
      "outputs": [
        {
          "name": "stdout",
          "output_type": "stream",
          "text": [
            "Acurácia para n_neighbors=1: 0.588\n",
            "Acurácia para n_neighbors=2: 0.583\n",
            "Acurácia para n_neighbors=3: 0.571\n",
            "Acurácia para n_neighbors=4: 0.600\n",
            "Acurácia para n_neighbors=5: 0.562\n",
            "Acurácia para n_neighbors=6: 0.596\n",
            "Acurácia para n_neighbors=7: 0.575\n",
            "Acurácia para n_neighbors=8: 0.600\n",
            "Acurácia para n_neighbors=9: 0.567\n",
            "Acurácia para n_neighbors=10: 0.583\n"
          ]
        }
      ],
      "source": [
        "# EXECUTAR UMA FUNÇÃO PARA CALCULAR A ACURÁCIA PARA 10 VIZINHOS\n",
        "acuracias = calcular_acuracia_para_vizinhos(X_train_70, y_train_70, X_test_30, y_test_30)"
      ]
    }
  ],
  "metadata": {
    "colab": {
      "provenance": []
    },
    "kernelspec": {
      "display_name": "Python 3",
      "name": "python3"
    },
    "language_info": {
      "codemirror_mode": {
        "name": "ipython",
        "version": 3
      },
      "file_extension": ".py",
      "mimetype": "text/x-python",
      "name": "python",
      "nbconvert_exporter": "python",
      "pygments_lexer": "ipython3",
      "version": "3.10.6"
    }
  },
  "nbformat": 4,
  "nbformat_minor": 0
}
